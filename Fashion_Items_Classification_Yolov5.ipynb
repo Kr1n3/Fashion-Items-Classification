{
  "cells": [
    {
      "cell_type": "markdown",
      "metadata": {
        "id": "view-in-github",
        "colab_type": "text"
      },
      "source": [
        "<a href=\"https://colab.research.google.com/github/Kr1n3/MPC_2022/blob/main/Fashion_Items_Classification_Yolov5.ipynb\" target=\"_parent\"><img src=\"https://colab.research.google.com/assets/colab-badge.svg\" alt=\"Open In Colab\"/></a>"
      ]
    },
    {
      "cell_type": "code",
      "execution_count": 1,
      "metadata": {
        "colab": {
          "base_uri": "https://localhost:8080/"
        },
        "id": "PaYIxpBTgD31",
        "outputId": "fcfdb9fe-7d40-4609-9aa5-ba7e954e221a"
      },
      "outputs": [
        {
          "output_type": "stream",
          "name": "stderr",
          "text": [
            "YOLOv5 🚀 v6.2-224-g82a5585 Python-3.7.15 torch-1.12.1+cu113 CUDA:0 (Tesla T4, 15110MiB)\n"
          ]
        },
        {
          "output_type": "stream",
          "name": "stdout",
          "text": [
            "Setup complete ✅ (2 CPUs, 12.7 GB RAM, 38.9/78.2 GB disk)\n"
          ]
        }
      ],
      "source": [
        "!git clone https://github.com/ultralytics/yolov5  \n",
        "%cd yolov5\n",
        "%pip install -qr requirements.txt  \n",
        "\n",
        "import torch\n",
        "import utils\n",
        "display = utils.notebook_init()  "
      ]
    },
    {
      "cell_type": "code",
      "execution_count": 2,
      "metadata": {
        "colab": {
          "base_uri": "https://localhost:8080/"
        },
        "id": "mlrmie3mhjlu",
        "outputId": "974606f7-a600-4af1-b61c-0d7ca55f4af8"
      },
      "outputs": [
        {
          "output_type": "stream",
          "name": "stdout",
          "text": [
            "/content/datasets\n"
          ]
        }
      ],
      "source": [
        "import os\n",
        "os.makedirs(\"../datasets/\", exist_ok=True)\n",
        "%cd ../datasets/"
      ]
    },
    {
      "cell_type": "code",
      "execution_count": 3,
      "metadata": {
        "colab": {
          "base_uri": "https://localhost:8080/",
          "height": 1000
        },
        "id": "UVqlzRE5Lq0N",
        "outputId": "95176869-a2dc-4328-d7c6-9b6f22a104f4"
      },
      "outputs": [
        {
          "output_type": "stream",
          "name": "stdout",
          "text": [
            "Looking in indexes: https://pypi.org/simple, https://us-python.pkg.dev/colab-wheels/public/simple/\n",
            "Collecting roboflow\n",
            "  Downloading roboflow-0.2.18-py3-none-any.whl (41 kB)\n",
            "\u001b[K     |████████████████████████████████| 41 kB 219 kB/s \n",
            "\u001b[?25hRequirement already satisfied: numpy>=1.18.5 in /usr/local/lib/python3.7/dist-packages (from roboflow) (1.21.6)\n",
            "Requirement already satisfied: Pillow>=7.1.2 in /usr/local/lib/python3.7/dist-packages (from roboflow) (7.1.2)\n",
            "Requirement already satisfied: PyYAML>=5.3.1 in /usr/local/lib/python3.7/dist-packages (from roboflow) (6.0)\n",
            "Collecting cycler==0.10.0\n",
            "  Downloading cycler-0.10.0-py2.py3-none-any.whl (6.5 kB)\n",
            "Collecting chardet==4.0.0\n",
            "  Downloading chardet-4.0.0-py2.py3-none-any.whl (178 kB)\n",
            "\u001b[K     |████████████████████████████████| 178 kB 64.8 MB/s \n",
            "\u001b[?25hRequirement already satisfied: python-dateutil in /usr/local/lib/python3.7/dist-packages (from roboflow) (2.8.2)\n",
            "Requirement already satisfied: requests in /usr/local/lib/python3.7/dist-packages (from roboflow) (2.23.0)\n",
            "Requirement already satisfied: glob2 in /usr/local/lib/python3.7/dist-packages (from roboflow) (0.7)\n",
            "Collecting wget\n",
            "  Downloading wget-3.2.zip (10 kB)\n",
            "Requirement already satisfied: tqdm>=4.41.0 in /usr/local/lib/python3.7/dist-packages (from roboflow) (4.64.1)\n",
            "Requirement already satisfied: matplotlib in /usr/local/lib/python3.7/dist-packages (from roboflow) (3.2.2)\n",
            "Collecting pyparsing==2.4.7\n",
            "  Downloading pyparsing-2.4.7-py2.py3-none-any.whl (67 kB)\n",
            "\u001b[K     |████████████████████████████████| 67 kB 6.7 MB/s \n",
            "\u001b[?25hRequirement already satisfied: idna==2.10 in /usr/local/lib/python3.7/dist-packages (from roboflow) (2.10)\n",
            "Collecting certifi==2021.5.30\n",
            "  Downloading certifi-2021.5.30-py2.py3-none-any.whl (145 kB)\n",
            "\u001b[K     |████████████████████████████████| 145 kB 71.4 MB/s \n",
            "\u001b[?25hCollecting requests-toolbelt\n",
            "  Downloading requests_toolbelt-0.10.1-py2.py3-none-any.whl (54 kB)\n",
            "\u001b[K     |████████████████████████████████| 54 kB 3.5 MB/s \n",
            "\u001b[?25hRequirement already satisfied: opencv-python-headless>=4.5.1.48 in /usr/local/lib/python3.7/dist-packages (from roboflow) (4.6.0.66)\n",
            "Collecting python-dotenv\n",
            "  Downloading python_dotenv-0.21.0-py3-none-any.whl (18 kB)\n",
            "Requirement already satisfied: kiwisolver>=1.3.1 in /usr/local/lib/python3.7/dist-packages (from roboflow) (1.4.4)\n",
            "Requirement already satisfied: six in /usr/local/lib/python3.7/dist-packages (from roboflow) (1.15.0)\n",
            "Collecting urllib3==1.26.6\n",
            "  Downloading urllib3-1.26.6-py2.py3-none-any.whl (138 kB)\n",
            "\u001b[K     |████████████████████████████████| 138 kB 71.5 MB/s \n",
            "\u001b[?25hRequirement already satisfied: typing-extensions in /usr/local/lib/python3.7/dist-packages (from kiwisolver>=1.3.1->roboflow) (4.1.1)\n",
            "Collecting requests\n",
            "  Downloading requests-2.28.1-py3-none-any.whl (62 kB)\n",
            "\u001b[K     |████████████████████████████████| 62 kB 1.6 MB/s \n",
            "\u001b[?25hRequirement already satisfied: charset-normalizer<3,>=2 in /usr/local/lib/python3.7/dist-packages (from requests->roboflow) (2.1.1)\n",
            "Building wheels for collected packages: wget\n",
            "  Building wheel for wget (setup.py) ... \u001b[?25l\u001b[?25hdone\n",
            "  Created wheel for wget: filename=wget-3.2-py3-none-any.whl size=9675 sha256=69e94c69089db51fe897d7c1a4956006962440d6c42ba0385673d144c75e6f32\n",
            "  Stored in directory: /root/.cache/pip/wheels/a1/b6/7c/0e63e34eb06634181c63adacca38b79ff8f35c37e3c13e3c02\n",
            "Successfully built wget\n",
            "Installing collected packages: urllib3, certifi, requests, pyparsing, cycler, wget, requests-toolbelt, python-dotenv, chardet, roboflow\n",
            "  Attempting uninstall: urllib3\n",
            "    Found existing installation: urllib3 1.24.3\n",
            "    Uninstalling urllib3-1.24.3:\n",
            "      Successfully uninstalled urllib3-1.24.3\n",
            "  Attempting uninstall: certifi\n",
            "    Found existing installation: certifi 2022.9.24\n",
            "    Uninstalling certifi-2022.9.24:\n",
            "      Successfully uninstalled certifi-2022.9.24\n",
            "  Attempting uninstall: requests\n",
            "    Found existing installation: requests 2.23.0\n",
            "    Uninstalling requests-2.23.0:\n",
            "      Successfully uninstalled requests-2.23.0\n",
            "  Attempting uninstall: pyparsing\n",
            "    Found existing installation: pyparsing 3.0.9\n",
            "    Uninstalling pyparsing-3.0.9:\n",
            "      Successfully uninstalled pyparsing-3.0.9\n",
            "  Attempting uninstall: cycler\n",
            "    Found existing installation: cycler 0.11.0\n",
            "    Uninstalling cycler-0.11.0:\n",
            "      Successfully uninstalled cycler-0.11.0\n",
            "  Attempting uninstall: chardet\n",
            "    Found existing installation: chardet 3.0.4\n",
            "    Uninstalling chardet-3.0.4:\n",
            "      Successfully uninstalled chardet-3.0.4\n",
            "Successfully installed certifi-2021.5.30 chardet-4.0.0 cycler-0.10.0 pyparsing-2.4.7 python-dotenv-0.21.0 requests-2.28.1 requests-toolbelt-0.10.1 roboflow-0.2.18 urllib3-1.26.6 wget-3.2\n"
          ]
        },
        {
          "output_type": "display_data",
          "data": {
            "application/vnd.colab-display-data+json": {
              "pip_warning": {
                "packages": [
                  "certifi",
                  "chardet",
                  "cycler",
                  "pyparsing",
                  "requests",
                  "urllib3"
                ]
              }
            }
          },
          "metadata": {}
        },
        {
          "output_type": "stream",
          "name": "stdout",
          "text": [
            "loading Roboflow workspace...\n",
            "loading Roboflow project...\n",
            "Downloading Dataset Version Zip in Clothing-Classification-2 to folder: 100% [24681566 / 24681566] bytes\n"
          ]
        },
        {
          "output_type": "stream",
          "name": "stderr",
          "text": [
            "Extracting Dataset Version Zip to Clothing-Classification-2 in folder:: 100%|██████████| 659/659 [00:00<00:00, 1442.37it/s]\n"
          ]
        }
      ],
      "source": [
        "!pip install roboflow\n",
        "\n",
        "from roboflow import Roboflow\n",
        "rf = Roboflow(api_key=\"rMzR9eoIcBQzHYZV8kcV\")\n",
        "project = rf.workspace(\"pos\").project(\"clothing-classification-4xbvj\")\n",
        "dataset = project.version(2).download(\"folder\")"
      ]
    },
    {
      "cell_type": "code",
      "execution_count": 4,
      "metadata": {
        "id": "CqBA5zBYRTba"
      },
      "outputs": [],
      "source": [
        "os.rename(\"/content/datasets/Clothing-Classification-2/valid\", \"/content/datasets/Clothing-Classification-2/val\")"
      ]
    },
    {
      "cell_type": "code",
      "execution_count": 5,
      "metadata": {
        "colab": {
          "base_uri": "https://localhost:8080/"
        },
        "id": "EhrTkTJ4gD2U",
        "outputId": "466c888e-d18d-4a1f-9a95-050e5c11480f"
      },
      "outputs": [
        {
          "output_type": "stream",
          "name": "stdout",
          "text": [
            "/content/yolov5\n"
          ]
        }
      ],
      "source": [
        "%cd ../yolov5\n",
        "from utils.downloads import attempt_download\n",
        "\n",
        "p5 = ['Bag', 'Dress', 'Pants', 'Shoes', 'Skirt']  \n",
        "cls = [f'{x}-cls' for x in p5] \n",
        "\n",
        "for x in cls:\n",
        "    attempt_download(f'weights/yolov5{x}.pt')"
      ]
    },
    {
      "cell_type": "code",
      "execution_count": 6,
      "metadata": {
        "colab": {
          "base_uri": "https://localhost:8080/",
          "height": 35
        },
        "id": "K6o7uCRdtx4g",
        "outputId": "1d414767-1439-4dd0-ac8b-29ebef95d277"
      },
      "outputs": [
        {
          "output_type": "execute_result",
          "data": {
            "text/plain": [
              "'/content/datasets/Clothing-Classification-2'"
            ],
            "application/vnd.google.colaboratory.intrinsic+json": {
              "type": "string"
            }
          },
          "metadata": {},
          "execution_count": 6
        }
      ],
      "source": [
        "dataset.location"
      ]
    },
    {
      "cell_type": "code",
      "execution_count": 7,
      "metadata": {
        "id": "_TMdvWfxgmP6"
      },
      "outputs": [],
      "source": [
        "Fashion = dataset.location.split(os.sep)[-1]\n",
        "os.environ[\"DATASET_NAME\"] = Fashion"
      ]
    },
    {
      "cell_type": "code",
      "execution_count": 8,
      "metadata": {
        "id": "KVXAqri4qr6l",
        "colab": {
          "base_uri": "https://localhost:8080/"
        },
        "outputId": "deb06fc8-19d7-41d9-ee73-86668f7200cd"
      },
      "outputs": [
        {
          "output_type": "stream",
          "name": "stdout",
          "text": [
            "\u001b[K     |████████████████████████████████| 1.9 MB 31.7 MB/s \n",
            "\u001b[K     |████████████████████████████████| 182 kB 72.5 MB/s \n",
            "\u001b[K     |████████████████████████████████| 166 kB 71.4 MB/s \n",
            "\u001b[K     |████████████████████████████████| 63 kB 1.9 MB/s \n",
            "\u001b[K     |████████████████████████████████| 140 kB 69.9 MB/s \n",
            "\u001b[?25h  Building wheel for pathtools (setup.py) ... \u001b[?25l\u001b[?25hdone\n",
            "\u001b[31mERROR: pip's dependency resolver does not currently take into account all the packages that are installed. This behaviour is the source of the following dependency conflicts.\n",
            "roboflow 0.2.18 requires urllib3==1.26.6, but you have urllib3 1.26.12 which is incompatible.\u001b[0m\n"
          ]
        }
      ],
      "source": [
        "# Weights & Biases  \n",
        "%pip install -q wandb\n",
        "import wandb"
      ]
    },
    {
      "cell_type": "code",
      "execution_count": 10,
      "metadata": {
        "id": "5aMCifF5rEpz",
        "colab": {
          "base_uri": "https://localhost:8080/"
        },
        "outputId": "f66418d0-a497-48d6-ea9a-0594b0845bf3"
      },
      "outputs": [
        {
          "output_type": "stream",
          "name": "stderr",
          "text": [
            "\u001b[34m\u001b[1mwandb\u001b[0m: Currently logged in as: \u001b[33mkr1n3\u001b[0m. Use \u001b[1m`wandb login --relogin`\u001b[0m to force relogin\n"
          ]
        }
      ],
      "source": [
        "import sys\n",
        "\n",
        "def wandb_colab_login():\n",
        "  \"\"\"Temporary hack to prevent colab from hanging\"\"\"\n",
        "  sys.modules[\"google.colab2\"] = sys.modules[\"google.colab\"]\n",
        "  del sys.modules[\"google.colab\"]\n",
        "  wandb.login()\n",
        "  sys.modules[\"google.colab\"] = sys.modules[\"google.colab2\"]\n",
        "wandb_colab_login()"
      ]
    },
    {
      "cell_type": "code",
      "execution_count": 11,
      "metadata": {
        "colab": {
          "base_uri": "https://localhost:8080/"
        },
        "id": "Q1vDoqHstx58",
        "outputId": "22ed8595-53b2-4d73-f57b-154f28b29a81"
      },
      "outputs": [
        {
          "output_type": "stream",
          "name": "stdout",
          "text": [
            "\u001b[34m\u001b[1mwandb\u001b[0m: Currently logged in as: \u001b[33mkr1n3\u001b[0m. Use \u001b[1m`wandb login --relogin`\u001b[0m to force relogin\n",
            "\u001b[34m\u001b[1mclassify/train: \u001b[0mmodel=yolov5s-cls.pt, data=Clothing-Classification-2, epochs=300, batch_size=64, imgsz=640, nosave=False, cache=None, device=, workers=8, project=runs/train-cls, name=exp, exist_ok=False, pretrained=weights/yolov5s-cls.pt, optimizer=Adam, lr0=0.001, decay=5e-05, label_smoothing=0.1, cutoff=None, dropout=None, verbose=False, seed=0, local_rank=-1\n",
            "\u001b[34m\u001b[1mgithub: \u001b[0mup to date with https://github.com/ultralytics/yolov5 ✅\n",
            "YOLOv5 🚀 v6.2-224-g82a5585 Python-3.7.15 torch-1.12.1+cu113 CUDA:0 (Tesla T4, 15110MiB)\n",
            "\n",
            "\u001b[34m\u001b[1mTensorBoard: \u001b[0mStart with 'tensorboard --logdir runs/train-cls', view at http://localhost:6006/\n",
            "\u001b[34m\u001b[1mwandb\u001b[0m: Tracking run with wandb version 0.13.4\n",
            "\u001b[34m\u001b[1mwandb\u001b[0m: Run data is saved locally in \u001b[35m\u001b[1m/content/yolov5/wandb/run-20221102_190545-3mjmx41j\u001b[0m\n",
            "\u001b[34m\u001b[1mwandb\u001b[0m: Run \u001b[1m`wandb offline`\u001b[0m to turn off syncing.\n",
            "\u001b[34m\u001b[1mwandb\u001b[0m: Syncing run \u001b[33msuper-hill-12\u001b[0m\n",
            "\u001b[34m\u001b[1mwandb\u001b[0m: ⭐️ View project at \u001b[34m\u001b[4mhttps://wandb.ai/kr1n3/YOLOv5-Classify\u001b[0m\n",
            "\u001b[34m\u001b[1mwandb\u001b[0m: 🚀 View run at \u001b[34m\u001b[4mhttps://wandb.ai/kr1n3/YOLOv5-Classify/runs/3mjmx41j\u001b[0m\n",
            "\u001b[34m\u001b[1malbumentations: \u001b[0mRandomResizedCrop(p=1.0, height=640, width=640, scale=(0.08, 1.0), ratio=(0.75, 1.3333333333333333), interpolation=1), HorizontalFlip(p=0.5), ColorJitter(p=0.5, brightness=[0.6, 1.4], contrast=[0.6, 1.4], saturation=[0.6, 1.4], hue=[0, 0]), Normalize(p=1.0, mean=(0.485, 0.456, 0.406), std=(0.229, 0.224, 0.225), max_pixel_value=255.0), ToTensorV2(always_apply=True, p=1.0, transpose_mask=False)\n",
            "Downloading https://github.com/ultralytics/yolov5/releases/download/v6.2/yolov5s-cls.pt to yolov5s-cls.pt...\n",
            "100% 10.5M/10.5M [00:00<00:00, 11.8MB/s]\n",
            "\n",
            "Model summary: 149 layers, 4178885 parameters, 4178885 gradients, 10.5 GFLOPs\n",
            "\u001b[34m\u001b[1moptimizer:\u001b[0m Adam(lr=0.001) with parameter groups 32 weight(decay=0.0), 33 weight(decay=5e-05), 33 bias\n",
            "Image sizes 640 train, 640 test\n",
            "Using 1 dataloader workers\n",
            "Logging results to \u001b[1mruns/train-cls/exp\u001b[0m\n",
            "Starting yolov5s-cls.pt training on Clothing-Classification-2 dataset with 5 classes for 300 epochs...\n",
            "\n",
            "     Epoch   GPU_mem  train_loss    val_loss    top1_acc    top5_acc\n",
            "     1/300       11G        1.73        1.61       0.235           1: 100% 10/10 [00:12<00:00,  1.24s/it]\n",
            "     2/300       11G        1.63        1.62       0.235           1: 100% 10/10 [00:13<00:00,  1.35s/it]\n",
            "     3/300       11G        1.61        1.61       0.176           1: 100% 10/10 [00:14<00:00,  1.41s/it]\n",
            "     4/300       11G        1.61        1.61       0.176           1: 100% 10/10 [00:13<00:00,  1.31s/it]\n",
            "     5/300       11G         1.6        1.58       0.314           1: 100% 10/10 [00:13<00:00,  1.40s/it]\n",
            "     6/300       11G         1.6        1.58       0.235           1: 100% 10/10 [00:13<00:00,  1.30s/it]\n",
            "     7/300       11G        1.58        1.59       0.294           1: 100% 10/10 [00:13<00:00,  1.32s/it]\n",
            "     8/300       11G        1.58        1.55       0.255           1: 100% 10/10 [00:13<00:00,  1.32s/it]\n",
            "     9/300       11G         1.6        1.59       0.216           1: 100% 10/10 [00:14<00:00,  1.41s/it]\n",
            "    10/300       11G        1.58        1.54       0.333           1: 100% 10/10 [00:13<00:00,  1.31s/it]\n",
            "    11/300       11G         1.6        3.39       0.216           1: 100% 10/10 [00:12<00:00,  1.30s/it]\n",
            "    12/300       11G        1.61        1.56       0.294           1: 100% 10/10 [00:13<00:00,  1.31s/it]\n",
            "    13/300       11G        1.59        1.95       0.176           1: 100% 10/10 [00:13<00:00,  1.38s/it]\n",
            "    14/300       11G        1.58        3.68       0.314           1: 100% 10/10 [00:13<00:00,  1.32s/it]\n",
            "    15/300       11G        1.59        1.68       0.275           1: 100% 10/10 [00:13<00:00,  1.30s/it]\n",
            "    16/300       11G        1.58        1.55       0.275           1: 100% 10/10 [00:13<00:00,  1.40s/it]\n",
            "    17/300       11G        1.55           2       0.216           1: 100% 10/10 [00:14<00:00,  1.42s/it]\n",
            "    18/300       11G        1.57        4.52       0.275           1: 100% 10/10 [00:12<00:00,  1.30s/it]\n",
            "    19/300       11G        1.54        1.51       0.275           1: 100% 10/10 [00:13<00:00,  1.31s/it]\n",
            "    20/300       11G        1.54        1.72       0.392           1: 100% 10/10 [00:14<00:00,  1.42s/it]\n",
            "    21/300       11G        1.55         2.5       0.353           1: 100% 10/10 [00:12<00:00,  1.30s/it]\n",
            "    22/300       11G        1.61           2       0.176           1: 100% 10/10 [00:12<00:00,  1.29s/it]\n",
            "    23/300       11G        1.57        1.74       0.196           1: 100% 10/10 [00:12<00:00,  1.30s/it]\n",
            "    24/300       11G        1.56        1.55       0.333           1: 100% 10/10 [00:14<00:00,  1.40s/it]\n",
            "    25/300       11G        1.55        1.55       0.333           1: 100% 10/10 [00:13<00:00,  1.31s/it]\n",
            "    26/300       11G        1.55        2.04       0.294           1: 100% 10/10 [00:13<00:00,  1.32s/it]\n",
            "    27/300       11G        1.54        1.59       0.294           1: 100% 10/10 [00:13<00:00,  1.30s/it]\n",
            "    28/300       11G        1.56        1.47       0.412           1: 100% 10/10 [00:14<00:00,  1.41s/it]\n",
            "    29/300       11G        1.51        1.59       0.275           1: 100% 10/10 [00:13<00:00,  1.30s/it]\n",
            "    30/300       11G        1.54        1.69       0.235           1: 100% 10/10 [00:13<00:00,  1.31s/it]\n",
            "    31/300       11G        1.53        1.77       0.176           1: 100% 10/10 [00:13<00:00,  1.30s/it]\n",
            "    32/300       11G        1.49        1.85       0.176           1: 100% 10/10 [00:15<00:00,  1.51s/it]\n",
            "    33/300       11G        1.49        1.61       0.275           1: 100% 10/10 [00:12<00:00,  1.29s/it]\n",
            "    34/300       11G        1.51         1.6       0.275           1: 100% 10/10 [00:12<00:00,  1.30s/it]\n",
            "    35/300       11G        1.52        1.56       0.255           1: 100% 10/10 [00:13<00:00,  1.37s/it]\n",
            "    36/300       11G        1.51        1.48       0.333           1: 100% 10/10 [00:13<00:00,  1.31s/it]\n",
            "    37/300       11G        1.49         1.6       0.314           1: 100% 10/10 [00:13<00:00,  1.31s/it]\n",
            "    38/300       11G        1.51        1.79       0.216           1: 100% 10/10 [00:13<00:00,  1.30s/it]\n",
            "    39/300       11G        1.49        1.51       0.412           1: 100% 10/10 [00:13<00:00,  1.40s/it]\n",
            "    40/300       11G        1.49        1.74       0.314           1: 100% 10/10 [00:12<00:00,  1.30s/it]\n",
            "    41/300       11G        1.47        1.52       0.275           1: 100% 10/10 [00:12<00:00,  1.30s/it]\n",
            "    42/300       11G        1.48        1.56       0.314           1: 100% 10/10 [00:13<00:00,  1.30s/it]\n",
            "    43/300       11G        1.49        1.44       0.431           1: 100% 10/10 [00:14<00:00,  1.40s/it]\n",
            "    44/300       11G        1.48        1.64       0.373           1: 100% 10/10 [00:13<00:00,  1.31s/it]\n",
            "    45/300       11G        1.47         1.5       0.294           1: 100% 10/10 [00:12<00:00,  1.29s/it]\n",
            "    46/300       11G        1.48        1.46       0.353           1: 100% 10/10 [00:12<00:00,  1.30s/it]\n",
            "    47/300       11G        1.44         1.5       0.314           1: 100% 10/10 [00:14<00:00,  1.50s/it]\n",
            "    48/300       11G        1.48        1.47       0.294           1: 100% 10/10 [00:13<00:00,  1.33s/it]\n",
            "    49/300       11G        1.46        1.45       0.373           1: 100% 10/10 [00:13<00:00,  1.33s/it]\n",
            "    50/300       11G        1.44        1.64       0.255           1: 100% 10/10 [00:13<00:00,  1.32s/it]\n",
            "    51/300       11G        1.48         1.6       0.255           1: 100% 10/10 [00:14<00:00,  1.40s/it]\n",
            "    52/300       11G        1.44        1.57       0.255           1: 100% 10/10 [00:12<00:00,  1.30s/it]\n",
            "    53/300       11G        1.43        1.44       0.412           1: 100% 10/10 [00:12<00:00,  1.30s/it]\n",
            "    54/300       11G        1.45        1.71       0.294           1: 100% 10/10 [00:14<00:00,  1.40s/it]\n",
            "    55/300       11G        1.43        1.45       0.412           1: 100% 10/10 [00:13<00:00,  1.31s/it]\n",
            "    56/300       11G        1.47        1.49       0.373           1: 100% 10/10 [00:13<00:00,  1.30s/it]\n",
            "    57/300       11G        1.46        1.63       0.373           1: 100% 10/10 [00:12<00:00,  1.30s/it]\n",
            "    58/300       11G        1.42        1.56       0.412           1: 100% 10/10 [00:13<00:00,  1.39s/it]\n",
            "    59/300       11G        1.45         1.6       0.333           1: 100% 10/10 [00:12<00:00,  1.30s/it]\n",
            "    60/300       11G        1.46        1.45       0.431           1: 100% 10/10 [00:13<00:00,  1.30s/it]\n",
            "    61/300       11G        1.43        1.37       0.451           1: 100% 10/10 [00:12<00:00,  1.29s/it]\n",
            "    62/300       11G        1.47        1.52       0.431           1: 100% 10/10 [00:15<00:00,  1.50s/it]\n",
            "    63/300       11G        1.45        1.51       0.412           1: 100% 10/10 [00:12<00:00,  1.29s/it]\n",
            "    64/300       11G        1.43        1.52       0.333           1: 100% 10/10 [00:13<00:00,  1.30s/it]\n",
            "    65/300       11G        1.41        1.36       0.451           1: 100% 10/10 [00:12<00:00,  1.29s/it]\n",
            "    66/300       11G        1.38        1.46       0.333           1: 100% 10/10 [00:13<00:00,  1.38s/it]\n",
            "    67/300       11G        1.45        1.43       0.431           1: 100% 10/10 [00:12<00:00,  1.29s/it]\n",
            "    68/300       11G        1.42        1.47       0.353           1: 100% 10/10 [00:12<00:00,  1.29s/it]\n",
            "    69/300       11G         1.4        1.68       0.294           1: 100% 10/10 [00:13<00:00,  1.30s/it]\n",
            "    70/300       11G         1.4        1.45       0.392           1: 100% 10/10 [00:14<00:00,  1.40s/it]\n",
            "    71/300       11G        1.45        1.53       0.333           1: 100% 10/10 [00:12<00:00,  1.29s/it]\n",
            "    72/300       11G         1.4        1.44       0.412           1: 100% 10/10 [00:13<00:00,  1.31s/it]\n",
            "    73/300       11G        1.42        1.52       0.353           1: 100% 10/10 [00:14<00:00,  1.40s/it]\n",
            "    74/300       11G         1.4        1.52       0.353           1: 100% 10/10 [00:13<00:00,  1.30s/it]\n",
            "    75/300       11G         1.4        1.59       0.275           1: 100% 10/10 [00:13<00:00,  1.31s/it]\n",
            "    76/300       11G        1.39        1.44       0.431           1: 100% 10/10 [00:13<00:00,  1.34s/it]\n",
            "    77/300       11G        1.43        1.44       0.353           1: 100% 10/10 [00:14<00:00,  1.47s/it]\n",
            "    78/300       11G        1.41        1.43       0.353           1: 100% 10/10 [00:13<00:00,  1.30s/it]\n",
            "    79/300       11G        1.36        1.39       0.412           1: 100% 10/10 [00:12<00:00,  1.30s/it]\n",
            "    80/300       11G         1.4        1.56       0.235           1: 100% 10/10 [00:13<00:00,  1.30s/it]\n",
            "    81/300       11G        1.39        1.51       0.275           1: 100% 10/10 [00:13<00:00,  1.39s/it]\n",
            "    82/300       11G        1.41        1.54       0.275           1: 100% 10/10 [00:13<00:00,  1.32s/it]\n",
            "    83/300       11G         1.4        1.48       0.314           1: 100% 10/10 [00:13<00:00,  1.30s/it]\n",
            "    84/300       11G        1.36         1.4        0.51           1: 100% 10/10 [00:13<00:00,  1.31s/it]\n",
            "    85/300       11G        1.35        1.41       0.451           1: 100% 10/10 [00:13<00:00,  1.39s/it]\n",
            "    86/300       11G        1.37        1.47       0.353           1: 100% 10/10 [00:13<00:00,  1.30s/it]\n",
            "    87/300       11G        1.38        1.54       0.275           1: 100% 10/10 [00:13<00:00,  1.31s/it]\n",
            "    88/300       11G        1.36        1.92       0.333           1: 100% 10/10 [00:13<00:00,  1.37s/it]\n",
            "    89/300       11G        1.37        1.43       0.392           1: 100% 10/10 [00:13<00:00,  1.35s/it]\n",
            "    90/300       11G        1.33        1.32       0.529           1: 100% 10/10 [00:13<00:00,  1.31s/it]\n",
            "    91/300       11G        1.37        1.32        0.51           1: 100% 10/10 [00:14<00:00,  1.42s/it]\n",
            "    92/300       11G        1.37        1.37       0.471           1: 100% 10/10 [00:14<00:00,  1.42s/it]\n",
            "    93/300       11G        1.35        1.59       0.451           1: 100% 10/10 [00:13<00:00,  1.32s/it]\n",
            "    94/300       11G        1.38        1.41        0.49           1: 100% 10/10 [00:12<00:00,  1.28s/it]\n",
            "    95/300       11G        1.32        1.42       0.373           1: 100% 10/10 [00:13<00:00,  1.32s/it]\n",
            "    96/300       11G        1.33        1.61       0.176           1: 100% 10/10 [00:13<00:00,  1.40s/it]\n",
            "    97/300       11G        1.34        1.48       0.471           1: 100% 10/10 [00:13<00:00,  1.31s/it]\n",
            "    98/300       11G        1.32        1.49       0.451           1: 100% 10/10 [00:13<00:00,  1.31s/it]\n",
            "    99/300       11G        1.35        1.35       0.529           1: 100% 10/10 [00:13<00:00,  1.31s/it]\n",
            "   100/300       11G        1.33        1.37        0.51           1: 100% 10/10 [00:14<00:00,  1.40s/it]\n",
            "   101/300       11G        1.34         2.2       0.275           1: 100% 10/10 [00:12<00:00,  1.29s/it]\n",
            "   102/300       11G         1.3        1.54       0.333           1: 100% 10/10 [00:13<00:00,  1.31s/it]\n",
            "   103/300       11G        1.39         1.8       0.314           1: 100% 10/10 [00:14<00:00,  1.41s/it]\n",
            "   104/300       11G        1.34        2.27       0.216           1: 100% 10/10 [00:13<00:00,  1.31s/it]\n",
            "   105/300       11G        1.31         1.6       0.275           1: 100% 10/10 [00:13<00:00,  1.30s/it]\n",
            "   106/300       11G        1.31        1.45       0.392           1: 100% 10/10 [00:13<00:00,  1.39s/it]\n",
            "   107/300       11G        1.27        1.75       0.294           1: 100% 10/10 [00:13<00:00,  1.39s/it]\n",
            "   108/300       11G        1.31        1.86       0.314           1: 100% 10/10 [00:12<00:00,  1.29s/it]\n",
            "   109/300       11G        1.28        1.53       0.392           1: 100% 10/10 [00:13<00:00,  1.31s/it]\n",
            "   110/300       11G        1.24         1.7       0.412           1: 100% 10/10 [00:13<00:00,  1.31s/it]\n",
            "   111/300       11G        1.31        1.26       0.529           1: 100% 10/10 [00:13<00:00,  1.40s/it]\n",
            "   112/300       11G         1.3        1.32        0.49           1: 100% 10/10 [00:13<00:00,  1.30s/it]\n",
            "   113/300       11G        1.32        1.57       0.392           1: 100% 10/10 [00:13<00:00,  1.31s/it]\n",
            "   114/300       11G        1.27        1.77       0.471           1: 100% 10/10 [00:14<00:00,  1.41s/it]\n",
            "   115/300       11G        1.24         1.7       0.373           1: 100% 10/10 [00:12<00:00,  1.30s/it]\n",
            "   116/300       11G        1.25        1.37        0.51           1: 100% 10/10 [00:13<00:00,  1.31s/it]\n",
            "   117/300       11G        1.26        1.15       0.686           1: 100% 10/10 [00:12<00:00,  1.28s/it]\n",
            "   118/300       11G        1.21        1.85       0.314           1: 100% 10/10 [00:13<00:00,  1.39s/it]\n",
            "   119/300       11G         1.2        1.36       0.549           1: 100% 10/10 [00:12<00:00,  1.30s/it]\n",
            "   120/300       11G        1.25        2.21       0.392           1: 100% 10/10 [00:13<00:00,  1.30s/it]\n",
            "   121/300       11G        1.22        1.73       0.314           1: 100% 10/10 [00:13<00:00,  1.39s/it]\n",
            "   122/300       11G        1.18        3.23       0.294           1: 100% 10/10 [00:14<00:00,  1.40s/it]\n",
            "   123/300       11G         1.2        1.39       0.412           1: 100% 10/10 [00:13<00:00,  1.30s/it]\n",
            "   124/300       11G        1.17         1.3       0.588           1: 100% 10/10 [00:13<00:00,  1.30s/it]\n",
            "   125/300       11G        1.15        1.33       0.471           1: 100% 10/10 [00:13<00:00,  1.31s/it]\n",
            "   126/300       11G        1.14        1.45        0.49           1: 100% 10/10 [00:13<00:00,  1.40s/it]\n",
            "   127/300       11G        1.11         1.4       0.569           1: 100% 10/10 [00:13<00:00,  1.30s/it]\n",
            "   128/300       11G         1.1        1.36       0.549           1: 100% 10/10 [00:12<00:00,  1.30s/it]\n",
            "   129/300       11G         1.1        1.16       0.588           1: 100% 10/10 [00:13<00:00,  1.38s/it]\n",
            "   130/300       11G        1.15        1.25        0.51           1: 100% 10/10 [00:12<00:00,  1.29s/it]\n",
            "   131/300       11G         1.1         1.3       0.627           1: 100% 10/10 [00:13<00:00,  1.31s/it]\n",
            "   132/300       11G        1.08        1.54       0.431           1: 100% 10/10 [00:12<00:00,  1.29s/it]\n",
            "   133/300       11G        1.07         1.4       0.431           1: 100% 10/10 [00:13<00:00,  1.39s/it]\n",
            "   134/300       11G        1.08        1.38       0.549           1: 100% 10/10 [00:13<00:00,  1.31s/it]\n",
            "   135/300       11G        1.08        1.52       0.431           1: 100% 10/10 [00:12<00:00,  1.29s/it]\n",
            "   136/300       11G        1.07        1.41        0.51           1: 100% 10/10 [00:13<00:00,  1.39s/it]\n",
            "   137/300       11G        1.02        1.49       0.392           1: 100% 10/10 [00:13<00:00,  1.38s/it]\n",
            "   138/300       11G         1.1        1.47       0.451           1: 100% 10/10 [00:12<00:00,  1.29s/it]\n",
            "   139/300       11G        1.11        1.24       0.588           1: 100% 10/10 [00:12<00:00,  1.30s/it]\n",
            "   140/300       11G        1.04         1.2       0.588           1: 100% 10/10 [00:13<00:00,  1.31s/it]\n",
            "   141/300       11G        1.01        1.27        0.49           1: 100% 10/10 [00:14<00:00,  1.41s/it]\n",
            "   142/300       11G        1.08        1.71       0.412           1: 100% 10/10 [00:12<00:00,  1.28s/it]\n",
            "   143/300       11G        1.11        1.34       0.529           1: 100% 10/10 [00:12<00:00,  1.29s/it]\n",
            "   144/300       11G        1.03        1.32        0.51           1: 100% 10/10 [00:12<00:00,  1.29s/it]\n",
            "   145/300       11G        1.04        1.38       0.588           1: 100% 10/10 [00:14<00:00,  1.41s/it]\n",
            "   146/300       11G       0.981        1.26       0.569           1: 100% 10/10 [00:12<00:00,  1.28s/it]\n",
            "   147/300       11G        1.04         1.4       0.588           1: 100% 10/10 [00:12<00:00,  1.28s/it]\n",
            "   148/300       11G        1.01        1.16       0.569           1: 100% 10/10 [00:13<00:00,  1.39s/it]\n",
            "   149/300       11G        1.05        1.14       0.608           1: 100% 10/10 [00:13<00:00,  1.30s/it]\n",
            "   150/300       11G        1.01        1.35        0.51           1: 100% 10/10 [00:12<00:00,  1.30s/it]\n",
            "   151/300       11G        1.04        1.36       0.529           1: 100% 10/10 [00:13<00:00,  1.40s/it]\n",
            "   152/300       11G       0.998        1.56       0.431           1: 100% 10/10 [00:14<00:00,  1.41s/it]\n",
            "   153/300       11G        1.04        1.33        0.51           1: 100% 10/10 [00:12<00:00,  1.29s/it]\n",
            "   154/300       11G        1.07        1.56       0.431           1: 100% 10/10 [00:13<00:00,  1.31s/it]\n",
            "   155/300       11G        1.03        1.28       0.588           1: 100% 10/10 [00:12<00:00,  1.30s/it]\n",
            "   156/300       11G        1.01        1.53       0.451           1: 100% 10/10 [00:13<00:00,  1.38s/it]\n",
            "   157/300       11G        0.96        1.47       0.431           1: 100% 10/10 [00:12<00:00,  1.29s/it]\n",
            "   158/300       11G       0.997        1.25        0.51           1: 100% 10/10 [00:12<00:00,  1.30s/it]\n",
            "   159/300       11G       0.953        1.32       0.529           1: 100% 10/10 [00:13<00:00,  1.33s/it]\n",
            "   160/300       11G       0.922        1.17       0.588           1: 100% 10/10 [00:13<00:00,  1.37s/it]\n",
            "   161/300       11G       0.956        1.13       0.569           1: 100% 10/10 [00:12<00:00,  1.30s/it]\n",
            "   162/300       11G       0.953        1.31       0.627           1: 100% 10/10 [00:12<00:00,  1.29s/it]\n",
            "   163/300       11G       0.937        1.18       0.686           1: 100% 10/10 [00:14<00:00,  1.42s/it]\n",
            "   164/300       11G       0.936        1.24       0.608           1: 100% 10/10 [00:13<00:00,  1.33s/it]\n",
            "   165/300       11G       0.925        1.06       0.725           1: 100% 10/10 [00:13<00:00,  1.33s/it]\n",
            "   166/300       11G       0.939        1.37       0.608           1: 100% 10/10 [00:14<00:00,  1.42s/it]\n",
            "   167/300       11G       0.909        1.46       0.549           1: 100% 10/10 [00:14<00:00,  1.44s/it]\n",
            "   168/300       11G       0.898        1.38       0.667           1: 100% 10/10 [00:13<00:00,  1.33s/it]\n",
            "   169/300       11G       0.884        1.34       0.569           1: 100% 10/10 [00:13<00:00,  1.32s/it]\n",
            "   170/300       11G       0.922         1.1       0.647           1: 100% 10/10 [00:13<00:00,  1.33s/it]\n",
            "   171/300       11G       0.888        1.32       0.647           1: 100% 10/10 [00:14<00:00,  1.42s/it]\n",
            "   172/300       11G       0.902        1.07       0.706           1: 100% 10/10 [00:13<00:00,  1.32s/it]\n",
            "   173/300       11G       0.866        1.09       0.686           1: 100% 10/10 [00:13<00:00,  1.32s/it]\n",
            "   174/300       11G        0.88        1.27       0.569           1: 100% 10/10 [00:14<00:00,  1.42s/it]\n",
            "   175/300       11G       0.908        1.09       0.686           1: 100% 10/10 [00:13<00:00,  1.33s/it]\n",
            "   176/300       11G       0.863        1.13       0.647           1: 100% 10/10 [00:13<00:00,  1.34s/it]\n",
            "   177/300       11G       0.892        1.11       0.686           1: 100% 10/10 [00:13<00:00,  1.32s/it]\n",
            "   178/300       11G       0.829        1.09       0.686           1: 100% 10/10 [00:14<00:00,  1.43s/it]\n",
            "   179/300       11G       0.855        1.14       0.627           1: 100% 10/10 [00:13<00:00,  1.32s/it]\n",
            "   180/300       11G       0.905        1.27       0.608           1: 100% 10/10 [00:14<00:00,  1.45s/it]\n",
            "   181/300       11G       0.896        1.15       0.706           1: 100% 10/10 [00:14<00:00,  1.45s/it]\n",
            "   182/300       11G       0.864        1.22       0.549           1: 100% 10/10 [00:13<00:00,  1.33s/it]\n",
            "   183/300       11G       0.864        1.18       0.667           1: 100% 10/10 [00:13<00:00,  1.35s/it]\n",
            "   184/300       11G       0.831        1.56       0.412           1: 100% 10/10 [00:13<00:00,  1.34s/it]\n",
            "   185/300       11G       0.867        1.21       0.647           1: 100% 10/10 [00:14<00:00,  1.44s/it]\n",
            "   186/300       11G       0.869        1.32       0.608           1: 100% 10/10 [00:13<00:00,  1.34s/it]\n",
            "   187/300       11G       0.862        1.11       0.686           1: 100% 10/10 [00:13<00:00,  1.35s/it]\n",
            "   188/300       11G       0.856           1       0.784           1: 100% 10/10 [00:13<00:00,  1.32s/it]\n",
            "   189/300       11G       0.806        1.56        0.49           1: 100% 10/10 [00:14<00:00,  1.43s/it]\n",
            "   190/300       11G        0.85         1.1       0.647           1: 100% 10/10 [00:13<00:00,  1.34s/it]\n",
            "   191/300       11G        0.84        1.07       0.647           1: 100% 10/10 [00:13<00:00,  1.33s/it]\n",
            "   192/300       11G       0.823        1.06       0.745           1: 100% 10/10 [00:13<00:00,  1.38s/it]\n",
            "   193/300       11G       0.802         1.2       0.569           1: 100% 10/10 [00:14<00:00,  1.41s/it]\n",
            "   194/300       11G       0.824         1.1       0.686           1: 100% 10/10 [00:13<00:00,  1.34s/it]\n",
            "   195/300       11G       0.836         1.2       0.647           1: 100% 10/10 [00:14<00:00,  1.43s/it]\n",
            "   196/300       11G       0.781        1.07       0.686           1: 100% 10/10 [00:14<00:00,  1.43s/it]\n",
            "   197/300       11G       0.858        1.33        0.51           1: 100% 10/10 [00:13<00:00,  1.32s/it]\n",
            "   198/300       11G       0.788        1.02       0.627           1: 100% 10/10 [00:13<00:00,  1.34s/it]\n",
            "   199/300       11G       0.784        1.19       0.608           1: 100% 10/10 [00:13<00:00,  1.33s/it]\n",
            "   200/300       11G        0.76        1.08       0.667           1: 100% 10/10 [00:14<00:00,  1.41s/it]\n",
            "   201/300       11G       0.839        1.12       0.667           1: 100% 10/10 [00:13<00:00,  1.33s/it]\n",
            "   202/300       11G       0.833        1.58       0.549           1: 100% 10/10 [00:13<00:00,  1.32s/it]\n",
            "   203/300       11G       0.804        1.17       0.667           1: 100% 10/10 [00:13<00:00,  1.33s/it]\n",
            "   204/300       11G        0.79        1.32       0.529           1: 100% 10/10 [00:14<00:00,  1.40s/it]\n",
            "   205/300       11G       0.827        1.44       0.608           1: 100% 10/10 [00:13<00:00,  1.33s/it]\n",
            "   206/300       11G       0.804        1.09       0.667           1: 100% 10/10 [00:13<00:00,  1.32s/it]\n",
            "   207/300       11G       0.773        1.21       0.686           1: 100% 10/10 [00:14<00:00,  1.42s/it]\n",
            "   208/300       11G       0.774         1.1       0.706           1: 100% 10/10 [00:13<00:00,  1.33s/it]\n",
            "   209/300       11G       0.769        1.18       0.627           1: 100% 10/10 [00:14<00:00,  1.42s/it]\n",
            "   210/300       11G       0.736        1.13       0.647           1: 100% 10/10 [00:13<00:00,  1.32s/it]\n",
            "   211/300       11G       0.776        1.14       0.667           1: 100% 10/10 [00:14<00:00,  1.43s/it]\n",
            "   212/300       11G       0.796        1.14       0.588           1: 100% 10/10 [00:13<00:00,  1.33s/it]\n",
            "   213/300       11G       0.777        1.07       0.686           1: 100% 10/10 [00:13<00:00,  1.32s/it]\n",
            "   214/300       11G       0.809        1.06       0.706           1: 100% 10/10 [00:13<00:00,  1.40s/it]\n",
            "   215/300       11G       0.768         1.1       0.608           1: 100% 10/10 [00:13<00:00,  1.37s/it]\n",
            "   216/300       11G       0.727        1.17       0.608           1: 100% 10/10 [00:13<00:00,  1.34s/it]\n",
            "   217/300       11G       0.742        1.06       0.647           1: 100% 10/10 [00:13<00:00,  1.32s/it]\n",
            "   218/300       11G        0.74        1.06       0.686           1: 100% 10/10 [00:14<00:00,  1.40s/it]\n",
            "   219/300       11G       0.764        1.05       0.686           1: 100% 10/10 [00:13<00:00,  1.31s/it]\n",
            "   220/300       11G       0.768        1.03       0.706           1: 100% 10/10 [00:13<00:00,  1.32s/it]\n",
            "   221/300       11G        0.76        1.11       0.667           1: 100% 10/10 [00:13<00:00,  1.33s/it]\n",
            "   222/300       11G       0.777         1.4       0.588           1: 100% 10/10 [00:14<00:00,  1.42s/it]\n",
            "   223/300       11G       0.722        1.07       0.667           1: 100% 10/10 [00:13<00:00,  1.33s/it]\n",
            "   224/300       11G       0.748        1.04       0.686           1: 100% 10/10 [00:14<00:00,  1.43s/it]\n",
            "   225/300       11G       0.767        1.05       0.725           1: 100% 10/10 [00:14<00:00,  1.42s/it]\n",
            "   226/300       11G       0.742        1.13       0.647           1: 100% 10/10 [00:13<00:00,  1.32s/it]\n",
            "   227/300       11G       0.719        1.14       0.706           1: 100% 10/10 [00:13<00:00,  1.32s/it]\n",
            "   228/300       11G       0.765        1.17       0.667           1: 100% 10/10 [00:13<00:00,  1.32s/it]\n",
            "   229/300       11G       0.723        1.15       0.647           1: 100% 10/10 [00:14<00:00,  1.42s/it]\n",
            "   230/300       11G       0.751        1.09       0.686           1: 100% 10/10 [00:13<00:00,  1.32s/it]\n",
            "   231/300       11G         0.7        1.24       0.588           1: 100% 10/10 [00:13<00:00,  1.32s/it]\n",
            "   232/300       11G       0.759        1.35       0.529           1: 100% 10/10 [00:13<00:00,  1.33s/it]\n",
            "   233/300       11G       0.751         1.1       0.706           1: 100% 10/10 [00:14<00:00,  1.42s/it]\n",
            "   234/300       11G       0.752        1.07       0.686           1: 100% 10/10 [00:13<00:00,  1.33s/it]\n",
            "   235/300       11G       0.731        1.15       0.706           1: 100% 10/10 [00:13<00:00,  1.31s/it]\n",
            "   236/300       11G       0.701        1.03       0.706           1: 100% 10/10 [00:14<00:00,  1.42s/it]\n",
            "   237/300       11G       0.746        1.05       0.706           1: 100% 10/10 [00:13<00:00,  1.34s/it]\n",
            "   238/300       11G       0.772        1.05       0.706           1: 100% 10/10 [00:14<00:00,  1.44s/it]\n",
            "   239/300       11G       0.717        1.12       0.627           1: 100% 10/10 [00:13<00:00,  1.32s/it]\n",
            "   240/300       11G       0.698           1       0.745           1: 100% 10/10 [00:14<00:00,  1.42s/it]\n",
            "   241/300       11G       0.724           1       0.667           1: 100% 10/10 [00:13<00:00,  1.33s/it]\n",
            "   242/300       11G       0.724        1.12       0.608           1: 100% 10/10 [00:13<00:00,  1.33s/it]\n",
            "   243/300       11G       0.758        1.07       0.627           1: 100% 10/10 [00:13<00:00,  1.38s/it]\n",
            "   244/300       11G       0.729        1.05       0.627           1: 100% 10/10 [00:13<00:00,  1.35s/it]\n",
            "   245/300       11G       0.712        1.15       0.627           1: 100% 10/10 [00:13<00:00,  1.33s/it]\n",
            "   246/300       11G       0.709        1.09       0.647           1: 100% 10/10 [00:13<00:00,  1.34s/it]\n",
            "   247/300       11G       0.705        1.02       0.745           1: 100% 10/10 [00:14<00:00,  1.42s/it]\n",
            "   248/300       11G       0.725           1       0.706           1: 100% 10/10 [00:13<00:00,  1.32s/it]\n",
            "   249/300       11G       0.697         1.1       0.667           1: 100% 10/10 [00:13<00:00,  1.33s/it]\n",
            "   250/300       11G       0.697        1.16       0.686           1: 100% 10/10 [00:13<00:00,  1.33s/it]\n",
            "   251/300       11G       0.671        1.15       0.627           1: 100% 10/10 [00:14<00:00,  1.43s/it]\n",
            "   252/300       11G       0.705        1.16       0.608           1: 100% 10/10 [00:14<00:00,  1.43s/it]\n",
            "   253/300       11G       0.684        1.19       0.686           1: 100% 10/10 [00:13<00:00,  1.34s/it]\n",
            "   254/300       11G       0.682        1.09       0.667           1: 100% 10/10 [00:14<00:00,  1.43s/it]\n",
            "   255/300       11G       0.689        1.06       0.706           1: 100% 10/10 [00:13<00:00,  1.32s/it]\n",
            "   256/300       11G       0.679        1.07       0.706           1: 100% 10/10 [00:13<00:00,  1.31s/it]\n",
            "   257/300       11G        0.67        1.06       0.725           1: 100% 10/10 [00:13<00:00,  1.33s/it]\n",
            "   258/300       11G       0.659        1.04       0.784           1: 100% 10/10 [00:14<00:00,  1.42s/it]\n",
            "   259/300       11G       0.676        1.04       0.745           1: 100% 10/10 [00:13<00:00,  1.34s/it]\n",
            "   260/300       11G       0.681        1.05       0.725           1: 100% 10/10 [00:13<00:00,  1.34s/it]\n",
            "   261/300       11G       0.683         1.1       0.647           1: 100% 10/10 [00:14<00:00,  1.42s/it]\n",
            "   262/300       11G       0.666        1.08       0.647           1: 100% 10/10 [00:13<00:00,  1.33s/it]\n",
            "   263/300       11G       0.673        1.08       0.667           1: 100% 10/10 [00:13<00:00,  1.33s/it]\n",
            "   264/300       11G       0.659        1.11       0.706           1: 100% 10/10 [00:13<00:00,  1.33s/it]\n",
            "   265/300       11G       0.676        1.07       0.686           1: 100% 10/10 [00:14<00:00,  1.40s/it]\n",
            "   266/300       11G       0.685        1.07       0.647           1: 100% 10/10 [00:13<00:00,  1.32s/it]\n",
            "   267/300       11G       0.671        1.04       0.706           1: 100% 10/10 [00:14<00:00,  1.42s/it]\n",
            "   268/300       11G        0.66        1.04       0.725           1: 100% 10/10 [00:13<00:00,  1.34s/it]\n",
            "   269/300       11G       0.678        1.02       0.686           1: 100% 10/10 [00:14<00:00,  1.45s/it]\n",
            "   270/300       11G       0.683        1.04       0.667           1: 100% 10/10 [00:13<00:00,  1.31s/it]\n",
            "   271/300       11G       0.659         1.1       0.627           1: 100% 10/10 [00:13<00:00,  1.33s/it]\n",
            "   272/300       11G       0.714        1.05       0.686           1: 100% 10/10 [00:14<00:00,  1.44s/it]\n",
            "   273/300       11G       0.664        1.02       0.686           1: 100% 10/10 [00:13<00:00,  1.31s/it]\n",
            "   274/300       11G       0.649        1.04       0.725           1: 100% 10/10 [00:13<00:00,  1.31s/it]\n",
            "   275/300       11G       0.647        1.06       0.725           1: 100% 10/10 [00:13<00:00,  1.31s/it]\n",
            "   276/300       11G       0.645        1.08       0.686           1: 100% 10/10 [00:14<00:00,  1.42s/it]\n",
            "   277/300       11G       0.668        1.07       0.686           1: 100% 10/10 [00:13<00:00,  1.32s/it]\n",
            "   278/300       11G       0.682        1.03       0.686           1: 100% 10/10 [00:13<00:00,  1.32s/it]\n",
            "   279/300       11G       0.635        1.01       0.745           1: 100% 10/10 [00:14<00:00,  1.41s/it]\n",
            "   280/300       11G       0.721        1.06       0.706           1: 100% 10/10 [00:13<00:00,  1.33s/it]\n",
            "   281/300       11G        0.65        1.05       0.686           1: 100% 10/10 [00:14<00:00,  1.42s/it]\n",
            "   282/300       11G       0.676        1.08       0.725           1: 100% 10/10 [00:13<00:00,  1.32s/it]\n",
            "   283/300       11G       0.632        1.11       0.686           1: 100% 10/10 [00:14<00:00,  1.40s/it]\n",
            "   284/300       11G       0.669        1.11       0.706           1: 100% 10/10 [00:12<00:00,  1.30s/it]\n",
            "   285/300       11G       0.666        1.12       0.725           1: 100% 10/10 [00:13<00:00,  1.32s/it]\n",
            "   286/300       11G       0.681        1.14       0.686           1: 100% 10/10 [00:14<00:00,  1.43s/it]\n",
            "   287/300       11G       0.667        1.11       0.667           1: 100% 10/10 [00:13<00:00,  1.31s/it]\n",
            "   288/300       11G       0.691        1.09       0.667           1: 100% 10/10 [00:13<00:00,  1.33s/it]\n",
            "   289/300       11G       0.666        1.07       0.706           1: 100% 10/10 [00:12<00:00,  1.30s/it]\n",
            "   290/300       11G       0.624        1.08       0.725           1: 100% 10/10 [00:14<00:00,  1.43s/it]\n",
            "   291/300       11G       0.629        1.09       0.706           1: 100% 10/10 [00:13<00:00,  1.33s/it]\n",
            "   292/300       11G        0.64        1.07       0.706           1: 100% 10/10 [00:13<00:00,  1.32s/it]\n",
            "   293/300       11G       0.627        1.06       0.725           1: 100% 10/10 [00:13<00:00,  1.36s/it]\n",
            "   294/300       11G       0.619        1.06       0.725           1: 100% 10/10 [00:13<00:00,  1.37s/it]\n",
            "   295/300       11G        0.62        1.07       0.725           1: 100% 10/10 [00:14<00:00,  1.41s/it]\n",
            "   296/300       11G       0.633        1.07       0.725           1: 100% 10/10 [00:13<00:00,  1.31s/it]\n",
            "   297/300       11G       0.628        1.08       0.686           1: 100% 10/10 [00:14<00:00,  1.41s/it]\n",
            "   298/300       11G       0.667        1.07       0.686           1: 100% 10/10 [00:13<00:00,  1.32s/it]\n",
            "   299/300       11G        0.65        1.06       0.686           1: 100% 10/10 [00:13<00:00,  1.31s/it]\n",
            "   300/300       11G       0.634        1.07       0.686           1: 100% 10/10 [00:13<00:00,  1.32s/it]\n",
            "\n",
            "Training complete (1.136 hours)\n",
            "Results saved to \u001b[1mruns/train-cls/exp\u001b[0m\n",
            "Predict:         python classify/predict.py --weights runs/train-cls/exp/weights/best.pt --source im.jpg\n",
            "Validate:        python classify/val.py --weights runs/train-cls/exp/weights/best.pt --data /content/datasets/Clothing-Classification-2\n",
            "Export:          python export.py --weights runs/train-cls/exp/weights/best.pt --include onnx\n",
            "PyTorch Hub:     model = torch.hub.load('ultralytics/yolov5', 'custom', 'runs/train-cls/exp/weights/best.pt')\n",
            "Visualize:       https://netron.app\n",
            "\n"
          ]
        }
      ],
      "source": [
        "!python classify/train.py --model yolov5s-cls.pt --data $Fashion --epochs 300 --img 640  --pretrained weights/yolov5s-cls.pt\n"
      ]
    },
    {
      "cell_type": "code",
      "execution_count": 12,
      "metadata": {
        "colab": {
          "base_uri": "https://localhost:8080/"
        },
        "id": "iZw8hoP_uwwt",
        "outputId": "54e69350-4217-4ebb-8837-09b1dcf04eec"
      },
      "outputs": [
        {
          "output_type": "stream",
          "name": "stdout",
          "text": [
            "\u001b[34m\u001b[1mclassify/val: \u001b[0mdata=/content/datasets/Clothing-Classification-2, weights=['runs/train-cls/exp/weights/best.pt'], batch_size=128, imgsz=224, device=, workers=8, verbose=True, project=runs/val-cls, name=exp, exist_ok=False, half=False, dnn=False\n",
            "YOLOv5 🚀 v6.2-224-g82a5585 Python-3.7.15 torch-1.12.1+cu113 CUDA:0 (Tesla T4, 15110MiB)\n",
            "\n",
            "Fusing layers... \n",
            "Model summary: 117 layers, 4173093 parameters, 0 gradients, 10.4 GFLOPs\n",
            "validating: 100% 1/1 [00:00<00:00,  1.62it/s]\n",
            "                   Class      Images    top1_acc    top5_acc\n",
            "                     all          51       0.294           1\n",
            "                     Bag           5         0.6           1\n",
            "                   Dress          13       0.538           1\n",
            "                   Pants          12       0.167           1\n",
            "                   Shoes          12       0.167           1\n",
            "                   Skirt           9       0.111           1\n",
            "Speed: 0.1ms pre-process, 2.1ms inference, 0.0ms post-process per image at shape (1, 3, 224, 224)\n",
            "Results saved to \u001b[1mruns/val-cls/exp\u001b[0m\n"
          ]
        }
      ],
      "source": [
        "!python classify/val.py --weights runs/train-cls/exp/weights/best.pt --data /content/datasets/Clothing-Classification-2\n"
      ]
    },
    {
      "cell_type": "code",
      "execution_count": 13,
      "metadata": {
        "id": "aTLGECyj0QZe",
        "colab": {
          "base_uri": "https://localhost:8080/",
          "height": 17
        },
        "outputId": "ca225fc7-a596-46e4-94f4-355aa095f6cc"
      },
      "outputs": [
        {
          "output_type": "display_data",
          "data": {
            "text/plain": [
              "<IPython.core.display.Javascript object>"
            ],
            "application/javascript": [
              "\n",
              "    async function download(id, filename, size) {\n",
              "      if (!google.colab.kernel.accessAllowed) {\n",
              "        return;\n",
              "      }\n",
              "      const div = document.createElement('div');\n",
              "      const label = document.createElement('label');\n",
              "      label.textContent = `Downloading \"${filename}\": `;\n",
              "      div.appendChild(label);\n",
              "      const progress = document.createElement('progress');\n",
              "      progress.max = size;\n",
              "      div.appendChild(progress);\n",
              "      document.body.appendChild(div);\n",
              "\n",
              "      const buffers = [];\n",
              "      let downloaded = 0;\n",
              "\n",
              "      const channel = await google.colab.kernel.comms.open(id);\n",
              "      // Send a message to notify the kernel that we're ready.\n",
              "      channel.send({})\n",
              "\n",
              "      for await (const message of channel.messages) {\n",
              "        // Send a message to notify the kernel that we're ready.\n",
              "        channel.send({})\n",
              "        if (message.buffers) {\n",
              "          for (const buffer of message.buffers) {\n",
              "            buffers.push(buffer);\n",
              "            downloaded += buffer.byteLength;\n",
              "            progress.value = downloaded;\n",
              "          }\n",
              "        }\n",
              "      }\n",
              "      const blob = new Blob(buffers, {type: 'application/binary'});\n",
              "      const a = document.createElement('a');\n",
              "      a.href = window.URL.createObjectURL(blob);\n",
              "      a.download = filename;\n",
              "      div.appendChild(a);\n",
              "      a.click();\n",
              "      div.remove();\n",
              "    }\n",
              "  "
            ]
          },
          "metadata": {}
        },
        {
          "output_type": "display_data",
          "data": {
            "text/plain": [
              "<IPython.core.display.Javascript object>"
            ],
            "application/javascript": [
              "download(\"download_d31188a4-eebe-4aef-b89e-4608b0e03962\", \"best.pt\", 8467387)"
            ]
          },
          "metadata": {}
        }
      ],
      "source": [
        "#export your model's weights for future use\n",
        "from google.colab import files\n",
        "files.download('./runs/train-cls/exp/weights/best.pt')"
      ]
    }
  ],
  "metadata": {
    "accelerator": "GPU",
    "colab": {
      "provenance": [],
      "include_colab_link": true
    },
    "gpuClass": "standard",
    "kernelspec": {
      "display_name": "Python 3",
      "name": "python3"
    },
    "language_info": {
      "name": "python"
    }
  },
  "nbformat": 4,
  "nbformat_minor": 0
}